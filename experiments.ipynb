{
 "cells": [
  {
   "cell_type": "code",
   "execution_count": 1,
   "id": "6d8d36e0",
   "metadata": {},
   "outputs": [
    {
     "name": "stdout",
     "output_type": "stream",
     "text": [
      "converged SCF energy = -74.9630631297276\n",
      "##### Number of atomic orbitals #####\n",
      "7\n",
      "\n",
      "\n",
      "E(CCSD) = -75.01253063681314  E_corr = -0.04946750708550916\n",
      "CCSD energy: -75.01253063681314\n",
      "t1 shape: (5, 2) t2 shape: (5, 5, 2, 2)\n"
     ]
    }
   ],
   "source": [
    "from pyscf import gto, scf, cc\n",
    "import numpy as np\n",
    "\n",
    "# 1) Build molecule\n",
    "mol = gto.Mole()\n",
    "mol.atom = \"\"\"\n",
    "O 0.0000 0.0000 0.0000\n",
    "H 0.0000 -0.7570 0.5870\n",
    "H 0.0000  0.7570 0.5870\n",
    "\"\"\"\n",
    "mol.basis = \"sto-3g\"\n",
    "mol.build()\n",
    "\n",
    "# 2) HF\n",
    "mf = scf.RHF(mol).run()\n",
    "\n",
    "print('##### Number of atomic orbitals #####')\n",
    "print(mol.nao)\n",
    "print('\\n')\n",
    "\n",
    "# 3) CCSD\n",
    "mycc = cc.CCSD(mf).run()\n",
    "\n",
    "# 4) Amplitudes\n",
    "t1 = mycc.t1          # shape: (nocc, nvir)\n",
    "t2 = mycc.t2          # shape: (nocc, nocc, nvir, nvir), antisymmetric in (ij) and (ab)\n",
    "\n",
    "print(\"CCSD energy:\", mycc.e_tot)\n",
    "print(\"t1 shape:\", t1.shape, \"t2 shape:\", t2.shape)\n",
    "\n",
    "# Lambda (left-hand) amplitudes if you need response/gradients:\n",
    "l1, l2 = mycc.solve_lambda()"
   ]
  },
  {
   "cell_type": "code",
   "execution_count": null,
   "id": "46ab4c2b",
   "metadata": {},
   "outputs": [],
   "source": []
  }
 ],
 "metadata": {
  "kernelspec": {
   "display_name": "Python 3",
   "language": "python",
   "name": "python3"
  },
  "language_info": {
   "codemirror_mode": {
    "name": "ipython",
    "version": 3
   },
   "file_extension": ".py",
   "mimetype": "text/x-python",
   "name": "python",
   "nbconvert_exporter": "python",
   "pygments_lexer": "ipython3",
   "version": "3.10.12"
  }
 },
 "nbformat": 4,
 "nbformat_minor": 5
}
